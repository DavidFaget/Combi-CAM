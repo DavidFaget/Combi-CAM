{
  "nbformat": 4,
  "nbformat_minor": 0,
  "metadata": {
    "colab": {
      "provenance": []
    },
    "kernelspec": {
      "name": "python3",
      "display_name": "Python 3"
    },
    "language_info": {
      "name": "python"
    }
  },
  "cells": [
    {
      "cell_type": "markdown",
      "source": [
        "## Installation and configuration:"
      ],
      "metadata": {
        "id": "2rm-2pEw8XYc"
      }
    },
    {
      "cell_type": "code",
      "source": [
        "import os\n",
        "import shutil\n",
        "\n",
        "# Clone repository\n",
        "!git clone https://github.com/DavidFaget/Combi-CAM\n",
        "\n",
        "# Download model weights (not provided)\n",
        "!wget https://.,
        "\n",
        "# Install Conda env\n",
        "!conda config --add channels conda-forge\n",
        "!conda config --set channel_priority strict!conda create -n certhgeoloc python=3.8 pip\n",
        "!conda activate certhgeoloc\n",
        "!pip install h5py\n",
        "!pip install torch torchvision torchaudio\n",
        "!pip install efficientnet_pytorch==0.7.0\n",
        "%cd /content/Combi-CAM\n",
        "!pip install -r requirements.txt\n",
        "\n",
        "# Copy weights to the right folder\n",
        "target_dir = '/content/Combi-CAM'\n",
        "source_file = '/content/back_coll_features.hdf5'\n",
        "destination_file = os.path.join(target_dir, 'back_coll_features.hdf5')\n",
        "shutil.copy(source_file, destination_file)"
      ],
      "metadata": {
        "id": "ZBAXvJ1-76ik"
      },
      "execution_count": null,
      "outputs": []
    },
    {
      "cell_type": "markdown",
      "source": [
        "## Inference:"
      ],
      "metadata": {
        "id": "lh4pYmzo8cYz"
      }
    },
    {
      "cell_type": "markdown",
      "source": [
        "Possible arguments:\n",
        "-- combicam\n",
        "-- gradcam\n",
        "-- gradcamplusplus\n",
        "-- layercam"
      ],
      "metadata": {
        "id": "Ti0Z728_A8iA"
      }
    },
    {
      "cell_type": "code",
      "source": [
        "!python inference.py --image_url \"https://f689dcf0.delivery.rocketcdn.me/wp-content/uploads/2021/08/sesion-de-fotos-en-familia-en-paris-ivan-conde-ph-ideas-fotos-torre-eiffel-1x.jpg\" --use_cpu  --combicam #--layercam --gradcamplusplus --gradcam"
      ],
      "metadata": {
        "id": "c27Hk-I2ekLD"
      },
      "execution_count": null,
      "outputs": []
    }
  ]
}
